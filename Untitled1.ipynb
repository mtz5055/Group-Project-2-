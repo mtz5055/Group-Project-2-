{
 "cells": [
  {
   "cell_type": "markdown",
   "metadata": {},
   "source": [
    "![title](img/GP2.svg)"
   ]
  },
  {
   "cell_type": "markdown",
   "metadata": {},
   "source": []
  },
  {
   "cell_type": "code",
   "execution_count": 3,
   "metadata": {},
   "outputs": [
    {
     "ename": "SyntaxError",
     "evalue": "invalid syntax (<ipython-input-3-3d4df6f270bc>, line 1)",
     "output_type": "error",
     "traceback": [
      "\u001b[1;36m  File \u001b[1;32m\"<ipython-input-3-3d4df6f270bc>\"\u001b[1;36m, line \u001b[1;32m1\u001b[0m\n\u001b[1;33m    [Our ER diagram displays the attributes, entities, primary and foreign keys, and relationships between entities for a sneaker drop. We have seven different entities with fluctuating amounts of attributes and keys. We separated our first entity of “Sneaker Being Released” into two entities, “Retail Price,” and “Vendors” with retail price and vendorID being each of their respective primary keys. Attributes for these differ as retail price is the only one for “Retail Price,” and “Vendors” has three different attributes including name, websiteURL, and location. Our next entity is “Website” which is connected to “Vendors” via a one-to-many relationship. This entity has attributes of three specific sneaker drop websites, which include Goat, StockX, and Grailed. Our next entity which is connected to “Website” is “What Customers Paid.” It is connected through a one-to-many relationship, and includes attributes of “WebsiteURL,” “Condition,” “PriceID,” and “Payment Method.” We also have three foreign keys in this entity and they are “WebsiteURL,” “Condition,” and “PriceID.” Our final two entities are both connected to “Price Customer Paid” and they are “Condition” and “Price.” They are both one-to-one relationships. “Condition” has attributes broken up into if the sneaker purchased was new or if it was used. “Price” has three attributes and they are the lowest and highest price recorded for that sneaker dependent upon where it was found, and then the average price. This diagram allows a much more efficient way to track sneaker drops and show where they are found and how much they are being sold for. The use of primary and foreign keys will aid in keeping track of any mishaps and being able to quickly find the solution to the problem.]\u001b[0m\n\u001b[1;37m          ^\u001b[0m\n\u001b[1;31mSyntaxError\u001b[0m\u001b[1;31m:\u001b[0m invalid syntax\n"
     ]
    }
   ],
   "source": [
    "Our ER diagram displays the attributes, entities, primary and foreign keys, and relationships between entities for a sneaker drop. We have seven different entities with fluctuating amounts of attributes and keys. We separated our first entity of “Sneaker Being Released” into two entities, “Retail Price,” and “Vendors” with retail price and vendorID being each of their respective primary keys. Attributes for these differ as retail price is the only one for “Retail Price,” and “Vendors” has three different attributes including name, websiteURL, and location. Our next entity is “Website” which is connected to “Vendors” via a one-to-many relationship. This entity has attributes of three specific sneaker drop websites, which include Goat, StockX, and Grailed. Our next entity which is connected to “Website” is “What Customers Paid.” It is connected through a one-to-many relationship, and includes attributes of “WebsiteURL,” “Condition,” “PriceID,” and “Payment Method.” We also have three foreign keys in this entity and they are “WebsiteURL,” “Condition,” and “PriceID.” Our final two entities are both connected to “Price Customer Paid” and they are “Condition” and “Price.” They are both one-to-one relationships. “Condition” has attributes broken up into if the sneaker purchased was new or if it was used. “Price” has three attributes and they are the lowest and highest price recorded for that sneaker dependent upon where it was found, and then the average price. This diagram allows a much more efficient way to track sneaker drops and show where they are found and how much they are being sold for. The use of primary and foreign keys will aid in keeping track of any mishaps and being able to quickly find the solution to the problem."
   ]
  },
  {
   "cell_type": "code",
   "execution_count": null,
   "metadata": {},
   "outputs": [],
   "source": []
  },
  {
   "cell_type": "code",
   "execution_count": null,
   "metadata": {},
   "outputs": [],
   "source": []
  }
 ],
 "metadata": {
  "kernelspec": {
   "display_name": "Python 2",
   "language": "python",
   "name": "python2"
  },
  "language_info": {
   "codemirror_mode": {
    "name": "ipython",
    "version": 2
   },
   "file_extension": ".py",
   "mimetype": "text/x-python",
   "name": "python",
   "nbconvert_exporter": "python",
   "pygments_lexer": "ipython2",
   "version": "2.7.16"
  }
 },
 "nbformat": 4,
 "nbformat_minor": 2
}
